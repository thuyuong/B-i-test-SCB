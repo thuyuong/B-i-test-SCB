{
 "cells": [
  {
   "cell_type": "code",
   "execution_count": 1,
   "id": "180fde40",
   "metadata": {},
   "outputs": [],
   "source": [
    "import pandas as pd \n",
    "import numpy as np\n",
    "import matplotlib.pyplot as plt\n",
    "from matplotlib.pyplot import *\n",
    "import seaborn as sns\n",
    "import datetime"
   ]
  },
  {
   "cell_type": "code",
   "execution_count": 2,
   "id": "a91087d5",
   "metadata": {},
   "outputs": [],
   "source": [
    "import warnings\n",
    "warnings.filterwarnings('ignore')\n",
    "from IPython.core.interactiveshell import InteractiveShell\n",
    "InteractiveShell.ast_node_interactivity=\"all\""
   ]
  },
  {
   "cell_type": "code",
   "execution_count": 3,
   "id": "db4c497c",
   "metadata": {},
   "outputs": [
    {
     "data": {
      "text/html": [
       "<div>\n",
       "<style scoped>\n",
       "    .dataframe tbody tr th:only-of-type {\n",
       "        vertical-align: middle;\n",
       "    }\n",
       "\n",
       "    .dataframe tbody tr th {\n",
       "        vertical-align: top;\n",
       "    }\n",
       "\n",
       "    .dataframe thead th {\n",
       "        text-align: right;\n",
       "    }\n",
       "</style>\n",
       "<table border=\"1\" class=\"dataframe\">\n",
       "  <thead>\n",
       "    <tr style=\"text-align: right;\">\n",
       "      <th></th>\n",
       "      <th>Unnamed: 0</th>\n",
       "      <th>tinh_thanhpho</th>\n",
       "      <th>loai_san_pham</th>\n",
       "      <th>thoi_gian</th>\n",
       "      <th>so_tien_thanh_toan</th>\n",
       "      <th>kenh_mua_ban</th>\n",
       "      <th>do_uu_tien</th>\n",
       "      <th>tien_ship</th>\n",
       "      <th>can_nang</th>\n",
       "      <th>chieu_cao</th>\n",
       "      <th>chieu_dai</th>\n",
       "      <th>chieu_rong</th>\n",
       "    </tr>\n",
       "  </thead>\n",
       "  <tbody>\n",
       "    <tr>\n",
       "      <th>0</th>\n",
       "      <td>0</td>\n",
       "      <td>Đà Nẵng</td>\n",
       "      <td>Điện Thoại</td>\n",
       "      <td>02/09/2014 03:02 AM</td>\n",
       "      <td>7951000</td>\n",
       "      <td>Lazada</td>\n",
       "      <td>Trung bình</td>\n",
       "      <td>65000</td>\n",
       "      <td>10.053154</td>\n",
       "      <td>4.608990</td>\n",
       "      <td>3.378163</td>\n",
       "      <td>5.489578</td>\n",
       "    </tr>\n",
       "    <tr>\n",
       "      <th>1</th>\n",
       "      <td>1</td>\n",
       "      <td>Bình Định</td>\n",
       "      <td>Thời trang nữ</td>\n",
       "      <td>03/23/2018 11:10 PM</td>\n",
       "      <td>6057000</td>\n",
       "      <td>Offline</td>\n",
       "      <td>Thấp</td>\n",
       "      <td>128000</td>\n",
       "      <td>10.074268</td>\n",
       "      <td>5.352235</td>\n",
       "      <td>4.134053</td>\n",
       "      <td>3.961462</td>\n",
       "    </tr>\n",
       "    <tr>\n",
       "      <th>2</th>\n",
       "      <td>2</td>\n",
       "      <td>Hải Dương</td>\n",
       "      <td>Gia Dụng</td>\n",
       "      <td>04/04/2019 10:14 PM</td>\n",
       "      <td>415000</td>\n",
       "      <td>Thegioididong</td>\n",
       "      <td>Thấp</td>\n",
       "      <td>99000</td>\n",
       "      <td>4.066475</td>\n",
       "      <td>2.757206</td>\n",
       "      <td>0.949298</td>\n",
       "      <td>4.151385</td>\n",
       "    </tr>\n",
       "    <tr>\n",
       "      <th>3</th>\n",
       "      <td>3</td>\n",
       "      <td>Hải Dương</td>\n",
       "      <td>Máy Ảnh</td>\n",
       "      <td>07/13/2015 06:41 PM</td>\n",
       "      <td>6033000</td>\n",
       "      <td>Shopee</td>\n",
       "      <td>Trung bình</td>\n",
       "      <td>65000</td>\n",
       "      <td>6.836190</td>\n",
       "      <td>2.263171</td>\n",
       "      <td>5.141840</td>\n",
       "      <td>2.708288</td>\n",
       "    </tr>\n",
       "    <tr>\n",
       "      <th>4</th>\n",
       "      <td>4</td>\n",
       "      <td>Bình Thuận</td>\n",
       "      <td>Thiết Bị Số</td>\n",
       "      <td>03/06/2020 06:29 AM</td>\n",
       "      <td>2118000</td>\n",
       "      <td>Shopee</td>\n",
       "      <td>Cao</td>\n",
       "      <td>164000</td>\n",
       "      <td>5.691333</td>\n",
       "      <td>1.045574</td>\n",
       "      <td>1.339470</td>\n",
       "      <td>0.923981</td>\n",
       "    </tr>\n",
       "    <tr>\n",
       "      <th>5</th>\n",
       "      <td>5</td>\n",
       "      <td>Tiền Giang</td>\n",
       "      <td>Thiết Bị Số</td>\n",
       "      <td>04/28/2017 06:51 PM</td>\n",
       "      <td>7389000</td>\n",
       "      <td>Offline</td>\n",
       "      <td>Trung bình</td>\n",
       "      <td>87000</td>\n",
       "      <td>1.083499</td>\n",
       "      <td>3.933194</td>\n",
       "      <td>2.551464</td>\n",
       "      <td>1.611047</td>\n",
       "    </tr>\n",
       "    <tr>\n",
       "      <th>6</th>\n",
       "      <td>6</td>\n",
       "      <td>Hải Dương</td>\n",
       "      <td>Đồng hồ</td>\n",
       "      <td>01/14/2016 09:22 AM</td>\n",
       "      <td>2143000</td>\n",
       "      <td>Shopee</td>\n",
       "      <td>Cao</td>\n",
       "      <td>88000</td>\n",
       "      <td>5.054554</td>\n",
       "      <td>0.798063</td>\n",
       "      <td>3.313844</td>\n",
       "      <td>0.996138</td>\n",
       "    </tr>\n",
       "    <tr>\n",
       "      <th>7</th>\n",
       "      <td>7</td>\n",
       "      <td>Hải Dương</td>\n",
       "      <td>Thiết Bị Số</td>\n",
       "      <td>03/06/2018 01:55 PM</td>\n",
       "      <td>9410000</td>\n",
       "      <td>Offline</td>\n",
       "      <td>Thấp</td>\n",
       "      <td>38000</td>\n",
       "      <td>6.358646</td>\n",
       "      <td>2.741359</td>\n",
       "      <td>1.407538</td>\n",
       "      <td>5.476155</td>\n",
       "    </tr>\n",
       "    <tr>\n",
       "      <th>8</th>\n",
       "      <td>8</td>\n",
       "      <td>Hà Giang</td>\n",
       "      <td>Gia Dụng</td>\n",
       "      <td>01/21/2015 02:36 AM</td>\n",
       "      <td>7826000</td>\n",
       "      <td>Thegioididong</td>\n",
       "      <td>Trung bình</td>\n",
       "      <td>31000</td>\n",
       "      <td>4.579716</td>\n",
       "      <td>1.193281</td>\n",
       "      <td>3.195406</td>\n",
       "      <td>4.095716</td>\n",
       "    </tr>\n",
       "    <tr>\n",
       "      <th>9</th>\n",
       "      <td>9</td>\n",
       "      <td>Gia Lai</td>\n",
       "      <td>Điện Thoại</td>\n",
       "      <td>09/01/2019 11:28 AM</td>\n",
       "      <td>3605000</td>\n",
       "      <td>Khac</td>\n",
       "      <td>Trung bình</td>\n",
       "      <td>161000</td>\n",
       "      <td>3.253028</td>\n",
       "      <td>4.541987</td>\n",
       "      <td>2.723973</td>\n",
       "      <td>3.475480</td>\n",
       "    </tr>\n",
       "  </tbody>\n",
       "</table>\n",
       "</div>"
      ],
      "text/plain": [
       "   Unnamed: 0 tinh_thanhpho  loai_san_pham            thoi_gian  \\\n",
       "0           0       Đà Nẵng     Điện Thoại  02/09/2014 03:02 AM   \n",
       "1           1     Bình Định  Thời trang nữ  03/23/2018 11:10 PM   \n",
       "2           2     Hải Dương       Gia Dụng  04/04/2019 10:14 PM   \n",
       "3           3     Hải Dương        Máy Ảnh  07/13/2015 06:41 PM   \n",
       "4           4    Bình Thuận    Thiết Bị Số  03/06/2020 06:29 AM   \n",
       "5           5    Tiền Giang    Thiết Bị Số  04/28/2017 06:51 PM   \n",
       "6           6     Hải Dương        Đồng hồ  01/14/2016 09:22 AM   \n",
       "7           7     Hải Dương    Thiết Bị Số  03/06/2018 01:55 PM   \n",
       "8           8      Hà Giang       Gia Dụng  01/21/2015 02:36 AM   \n",
       "9           9       Gia Lai     Điện Thoại  09/01/2019 11:28 AM   \n",
       "\n",
       "   so_tien_thanh_toan   kenh_mua_ban  do_uu_tien  tien_ship   can_nang  \\\n",
       "0             7951000         Lazada  Trung bình      65000  10.053154   \n",
       "1             6057000        Offline        Thấp     128000  10.074268   \n",
       "2              415000  Thegioididong        Thấp      99000   4.066475   \n",
       "3             6033000         Shopee  Trung bình      65000   6.836190   \n",
       "4             2118000         Shopee         Cao     164000   5.691333   \n",
       "5             7389000        Offline  Trung bình      87000   1.083499   \n",
       "6             2143000         Shopee         Cao      88000   5.054554   \n",
       "7             9410000        Offline        Thấp      38000   6.358646   \n",
       "8             7826000  Thegioididong  Trung bình      31000   4.579716   \n",
       "9             3605000           Khac  Trung bình     161000   3.253028   \n",
       "\n",
       "   chieu_cao  chieu_dai  chieu_rong  \n",
       "0   4.608990   3.378163    5.489578  \n",
       "1   5.352235   4.134053    3.961462  \n",
       "2   2.757206   0.949298    4.151385  \n",
       "3   2.263171   5.141840    2.708288  \n",
       "4   1.045574   1.339470    0.923981  \n",
       "5   3.933194   2.551464    1.611047  \n",
       "6   0.798063   3.313844    0.996138  \n",
       "7   2.741359   1.407538    5.476155  \n",
       "8   1.193281   3.195406    4.095716  \n",
       "9   4.541987   2.723973    3.475480  "
      ]
     },
     "execution_count": 3,
     "metadata": {},
     "output_type": "execute_result"
    }
   ],
   "source": [
    "df=pd.read_csv('C:/Users/uongt/Downloads/orders_1458368.csv')\n",
    "pd.set_option('display.max_columns',None)\n",
    "pd.set_option('display.width',None)\n",
    "df.head(10)"
   ]
  },
  {
   "cell_type": "code",
   "execution_count": 4,
   "id": "35603b0f",
   "metadata": {},
   "outputs": [
    {
     "data": {
      "text/html": [
       "<div>\n",
       "<style scoped>\n",
       "    .dataframe tbody tr th:only-of-type {\n",
       "        vertical-align: middle;\n",
       "    }\n",
       "\n",
       "    .dataframe tbody tr th {\n",
       "        vertical-align: top;\n",
       "    }\n",
       "\n",
       "    .dataframe thead th {\n",
       "        text-align: right;\n",
       "    }\n",
       "</style>\n",
       "<table border=\"1\" class=\"dataframe\">\n",
       "  <thead>\n",
       "    <tr style=\"text-align: right;\">\n",
       "      <th></th>\n",
       "      <th>tinh_thanhpho</th>\n",
       "      <th>loai_san_pham</th>\n",
       "      <th>thoi_gian</th>\n",
       "      <th>so_tien_thanh_toan</th>\n",
       "      <th>kenh_mua_ban</th>\n",
       "      <th>do_uu_tien</th>\n",
       "      <th>id</th>\n",
       "      <th>nam</th>\n",
       "    </tr>\n",
       "  </thead>\n",
       "  <tbody>\n",
       "    <tr>\n",
       "      <th>0</th>\n",
       "      <td>Đà Nẵng</td>\n",
       "      <td>Điện Thoại</td>\n",
       "      <td>09/02/2014</td>\n",
       "      <td>7951000</td>\n",
       "      <td>Lazada</td>\n",
       "      <td>Trung bình</td>\n",
       "      <td>1</td>\n",
       "      <td>2014</td>\n",
       "    </tr>\n",
       "    <tr>\n",
       "      <th>1</th>\n",
       "      <td>Bình Định</td>\n",
       "      <td>Thời trang nữ</td>\n",
       "      <td>23/03/2018</td>\n",
       "      <td>6057000</td>\n",
       "      <td>Offline</td>\n",
       "      <td>Thấp</td>\n",
       "      <td>2</td>\n",
       "      <td>2018</td>\n",
       "    </tr>\n",
       "    <tr>\n",
       "      <th>2</th>\n",
       "      <td>Hải Dương</td>\n",
       "      <td>Gia Dụng</td>\n",
       "      <td>04/04/2019</td>\n",
       "      <td>415000</td>\n",
       "      <td>Thegioididong</td>\n",
       "      <td>Thấp</td>\n",
       "      <td>3</td>\n",
       "      <td>2019</td>\n",
       "    </tr>\n",
       "    <tr>\n",
       "      <th>3</th>\n",
       "      <td>Hải Dương</td>\n",
       "      <td>Máy Ảnh</td>\n",
       "      <td>13/07/2015</td>\n",
       "      <td>6033000</td>\n",
       "      <td>Shopee</td>\n",
       "      <td>Trung bình</td>\n",
       "      <td>4</td>\n",
       "      <td>2015</td>\n",
       "    </tr>\n",
       "    <tr>\n",
       "      <th>4</th>\n",
       "      <td>Bình Thuận</td>\n",
       "      <td>Thiết Bị Số</td>\n",
       "      <td>06/03/2020</td>\n",
       "      <td>2118000</td>\n",
       "      <td>Shopee</td>\n",
       "      <td>Cao</td>\n",
       "      <td>5</td>\n",
       "      <td>2020</td>\n",
       "    </tr>\n",
       "  </tbody>\n",
       "</table>\n",
       "</div>"
      ],
      "text/plain": [
       "  tinh_thanhpho  loai_san_pham   thoi_gian  so_tien_thanh_toan   kenh_mua_ban  \\\n",
       "0       Đà Nẵng     Điện Thoại  09/02/2014             7951000         Lazada   \n",
       "1     Bình Định  Thời trang nữ  23/03/2018             6057000        Offline   \n",
       "2     Hải Dương       Gia Dụng  04/04/2019              415000  Thegioididong   \n",
       "3     Hải Dương        Máy Ảnh  13/07/2015             6033000         Shopee   \n",
       "4    Bình Thuận    Thiết Bị Số  06/03/2020             2118000         Shopee   \n",
       "\n",
       "   do_uu_tien  id   nam  \n",
       "0  Trung bình   1  2014  \n",
       "1        Thấp   2  2018  \n",
       "2        Thấp   3  2019  \n",
       "3  Trung bình   4  2015  \n",
       "4         Cao   5  2020  "
      ]
     },
     "execution_count": 4,
     "metadata": {},
     "output_type": "execute_result"
    },
    {
     "name": "stdout",
     "output_type": "stream",
     "text": [
      "<class 'pandas.core.frame.DataFrame'>\n",
      "RangeIndex: 1458368 entries, 0 to 1458367\n",
      "Data columns (total 8 columns):\n",
      " #   Column              Non-Null Count    Dtype \n",
      "---  ------              --------------    ----- \n",
      " 0   tinh_thanhpho       1458368 non-null  object\n",
      " 1   loai_san_pham       1458368 non-null  object\n",
      " 2   thoi_gian           1458368 non-null  object\n",
      " 3   so_tien_thanh_toan  1458368 non-null  int64 \n",
      " 4   kenh_mua_ban        1458368 non-null  object\n",
      " 5   do_uu_tien          1458368 non-null  object\n",
      " 6   id                  1458368 non-null  int32 \n",
      " 7   nam                 1458368 non-null  object\n",
      "dtypes: int32(1), int64(1), object(6)\n",
      "memory usage: 83.4+ MB\n"
     ]
    }
   ],
   "source": [
    "df= df[[\"tinh_thanhpho\",\"loai_san_pham\",\"thoi_gian\",\"so_tien_thanh_toan\",\"kenh_mua_ban\",\"do_uu_tien\"]]\n",
    "df['id']=range(1,1+len(df))\n",
    "df['thoi_gian'] = pd.to_datetime(df.thoi_gian)\n",
    "df['nam'] = df.thoi_gian.dt.strftime('%Y')\n",
    "df['thoi_gian'] = df.thoi_gian.dt.strftime('%d/%m/%Y')\n",
    "df.head(5)\n",
    "df.info()"
   ]
  },
  {
   "cell_type": "code",
   "execution_count": 5,
   "id": "3048b9c6",
   "metadata": {},
   "outputs": [
    {
     "data": {
      "text/html": [
       "<div>\n",
       "<style scoped>\n",
       "    .dataframe tbody tr th:only-of-type {\n",
       "        vertical-align: middle;\n",
       "    }\n",
       "\n",
       "    .dataframe tbody tr th {\n",
       "        vertical-align: top;\n",
       "    }\n",
       "\n",
       "    .dataframe thead th {\n",
       "        text-align: right;\n",
       "    }\n",
       "</style>\n",
       "<table border=\"1\" class=\"dataframe\">\n",
       "  <thead>\n",
       "    <tr style=\"text-align: right;\">\n",
       "      <th></th>\n",
       "      <th>tinh_thanhpho</th>\n",
       "      <th>loai_san_pham</th>\n",
       "      <th>thoi_gian</th>\n",
       "      <th>kenh_mua_ban</th>\n",
       "      <th>id</th>\n",
       "      <th>so_tien_thanh_toan</th>\n",
       "    </tr>\n",
       "  </thead>\n",
       "  <tbody>\n",
       "    <tr>\n",
       "      <th>0</th>\n",
       "      <td>Bình Thuận</td>\n",
       "      <td>Gia Dụng</td>\n",
       "      <td>01/01/2015</td>\n",
       "      <td>Khac</td>\n",
       "      <td>1</td>\n",
       "      <td>4261000</td>\n",
       "    </tr>\n",
       "    <tr>\n",
       "      <th>1</th>\n",
       "      <td>Bình Thuận</td>\n",
       "      <td>Gia Dụng</td>\n",
       "      <td>01/01/2015</td>\n",
       "      <td>Lazada</td>\n",
       "      <td>2</td>\n",
       "      <td>5442000</td>\n",
       "    </tr>\n",
       "    <tr>\n",
       "      <th>2</th>\n",
       "      <td>Bình Thuận</td>\n",
       "      <td>Gia Dụng</td>\n",
       "      <td>01/01/2015</td>\n",
       "      <td>Offline</td>\n",
       "      <td>1</td>\n",
       "      <td>3153000</td>\n",
       "    </tr>\n",
       "    <tr>\n",
       "      <th>3</th>\n",
       "      <td>Bình Thuận</td>\n",
       "      <td>Gia Dụng</td>\n",
       "      <td>01/01/2015</td>\n",
       "      <td>Shopee</td>\n",
       "      <td>1</td>\n",
       "      <td>1476000</td>\n",
       "    </tr>\n",
       "    <tr>\n",
       "      <th>4</th>\n",
       "      <td>Bình Thuận</td>\n",
       "      <td>Gia Dụng</td>\n",
       "      <td>01/01/2015</td>\n",
       "      <td>Thegioididong</td>\n",
       "      <td>1</td>\n",
       "      <td>6985000</td>\n",
       "    </tr>\n",
       "    <tr>\n",
       "      <th>5</th>\n",
       "      <td>Bình Thuận</td>\n",
       "      <td>Gia Dụng</td>\n",
       "      <td>01/01/2016</td>\n",
       "      <td>Khac</td>\n",
       "      <td>1</td>\n",
       "      <td>7976000</td>\n",
       "    </tr>\n",
       "    <tr>\n",
       "      <th>6</th>\n",
       "      <td>Bình Thuận</td>\n",
       "      <td>Gia Dụng</td>\n",
       "      <td>01/01/2016</td>\n",
       "      <td>Offline</td>\n",
       "      <td>1</td>\n",
       "      <td>5467000</td>\n",
       "    </tr>\n",
       "    <tr>\n",
       "      <th>7</th>\n",
       "      <td>Bình Thuận</td>\n",
       "      <td>Gia Dụng</td>\n",
       "      <td>01/01/2016</td>\n",
       "      <td>Thegioididong</td>\n",
       "      <td>1</td>\n",
       "      <td>7936000</td>\n",
       "    </tr>\n",
       "    <tr>\n",
       "      <th>8</th>\n",
       "      <td>Bình Thuận</td>\n",
       "      <td>Gia Dụng</td>\n",
       "      <td>01/01/2017</td>\n",
       "      <td>Offline</td>\n",
       "      <td>1</td>\n",
       "      <td>665000</td>\n",
       "    </tr>\n",
       "    <tr>\n",
       "      <th>9</th>\n",
       "      <td>Bình Thuận</td>\n",
       "      <td>Gia Dụng</td>\n",
       "      <td>01/01/2017</td>\n",
       "      <td>Thegioididong</td>\n",
       "      <td>1</td>\n",
       "      <td>3829000</td>\n",
       "    </tr>\n",
       "  </tbody>\n",
       "</table>\n",
       "</div>"
      ],
      "text/plain": [
       "  tinh_thanhpho loai_san_pham   thoi_gian   kenh_mua_ban  id  \\\n",
       "0    Bình Thuận      Gia Dụng  01/01/2015           Khac   1   \n",
       "1    Bình Thuận      Gia Dụng  01/01/2015         Lazada   2   \n",
       "2    Bình Thuận      Gia Dụng  01/01/2015        Offline   1   \n",
       "3    Bình Thuận      Gia Dụng  01/01/2015         Shopee   1   \n",
       "4    Bình Thuận      Gia Dụng  01/01/2015  Thegioididong   1   \n",
       "5    Bình Thuận      Gia Dụng  01/01/2016           Khac   1   \n",
       "6    Bình Thuận      Gia Dụng  01/01/2016        Offline   1   \n",
       "7    Bình Thuận      Gia Dụng  01/01/2016  Thegioididong   1   \n",
       "8    Bình Thuận      Gia Dụng  01/01/2017        Offline   1   \n",
       "9    Bình Thuận      Gia Dụng  01/01/2017  Thegioididong   1   \n",
       "\n",
       "   so_tien_thanh_toan  \n",
       "0             4261000  \n",
       "1             5442000  \n",
       "2             3153000  \n",
       "3             1476000  \n",
       "4             6985000  \n",
       "5             7976000  \n",
       "6             5467000  \n",
       "7             7936000  \n",
       "8              665000  \n",
       "9             3829000  "
      ]
     },
     "execution_count": 5,
     "metadata": {},
     "output_type": "execute_result"
    }
   ],
   "source": [
    "df1=df.groupby([\"tinh_thanhpho\",\"loai_san_pham\",\"thoi_gian\",\"kenh_mua_ban\"]).agg({'id':'count','so_tien_thanh_toan':'sum'}).reset_index()\n",
    "df1.head(10)"
   ]
  },
  {
   "cell_type": "code",
   "execution_count": 6,
   "id": "d8dd2f07",
   "metadata": {},
   "outputs": [
    {
     "data": {
      "text/html": [
       "<div>\n",
       "<style scoped>\n",
       "    .dataframe tbody tr th:only-of-type {\n",
       "        vertical-align: middle;\n",
       "    }\n",
       "\n",
       "    .dataframe tbody tr th {\n",
       "        vertical-align: top;\n",
       "    }\n",
       "\n",
       "    .dataframe thead th {\n",
       "        text-align: right;\n",
       "    }\n",
       "</style>\n",
       "<table border=\"1\" class=\"dataframe\">\n",
       "  <thead>\n",
       "    <tr style=\"text-align: right;\">\n",
       "      <th></th>\n",
       "      <th>tinh_thanhpho</th>\n",
       "      <th>loai_san_pham</th>\n",
       "      <th>nam</th>\n",
       "      <th>kenh_mua_ban</th>\n",
       "      <th>id</th>\n",
       "      <th>so_tien_thanh_toan</th>\n",
       "    </tr>\n",
       "  </thead>\n",
       "  <tbody>\n",
       "    <tr>\n",
       "      <th>0</th>\n",
       "      <td>Bình Thuận</td>\n",
       "      <td>Gia Dụng</td>\n",
       "      <td>2014</td>\n",
       "      <td>Khac</td>\n",
       "      <td>173</td>\n",
       "      <td>894908000</td>\n",
       "    </tr>\n",
       "    <tr>\n",
       "      <th>1</th>\n",
       "      <td>Bình Thuận</td>\n",
       "      <td>Gia Dụng</td>\n",
       "      <td>2014</td>\n",
       "      <td>Lazada</td>\n",
       "      <td>154</td>\n",
       "      <td>773402000</td>\n",
       "    </tr>\n",
       "    <tr>\n",
       "      <th>2</th>\n",
       "      <td>Bình Thuận</td>\n",
       "      <td>Gia Dụng</td>\n",
       "      <td>2014</td>\n",
       "      <td>Offline</td>\n",
       "      <td>155</td>\n",
       "      <td>807544000</td>\n",
       "    </tr>\n",
       "    <tr>\n",
       "      <th>3</th>\n",
       "      <td>Bình Thuận</td>\n",
       "      <td>Gia Dụng</td>\n",
       "      <td>2014</td>\n",
       "      <td>Shopee</td>\n",
       "      <td>145</td>\n",
       "      <td>684225000</td>\n",
       "    </tr>\n",
       "    <tr>\n",
       "      <th>4</th>\n",
       "      <td>Bình Thuận</td>\n",
       "      <td>Gia Dụng</td>\n",
       "      <td>2014</td>\n",
       "      <td>Thegioididong</td>\n",
       "      <td>129</td>\n",
       "      <td>719993000</td>\n",
       "    </tr>\n",
       "    <tr>\n",
       "      <th>5</th>\n",
       "      <td>Bình Thuận</td>\n",
       "      <td>Gia Dụng</td>\n",
       "      <td>2014</td>\n",
       "      <td>Tiki</td>\n",
       "      <td>127</td>\n",
       "      <td>649426000</td>\n",
       "    </tr>\n",
       "    <tr>\n",
       "      <th>6</th>\n",
       "      <td>Bình Thuận</td>\n",
       "      <td>Gia Dụng</td>\n",
       "      <td>2015</td>\n",
       "      <td>Khac</td>\n",
       "      <td>137</td>\n",
       "      <td>679688000</td>\n",
       "    </tr>\n",
       "    <tr>\n",
       "      <th>7</th>\n",
       "      <td>Bình Thuận</td>\n",
       "      <td>Gia Dụng</td>\n",
       "      <td>2015</td>\n",
       "      <td>Lazada</td>\n",
       "      <td>155</td>\n",
       "      <td>770802000</td>\n",
       "    </tr>\n",
       "    <tr>\n",
       "      <th>8</th>\n",
       "      <td>Bình Thuận</td>\n",
       "      <td>Gia Dụng</td>\n",
       "      <td>2015</td>\n",
       "      <td>Offline</td>\n",
       "      <td>149</td>\n",
       "      <td>722875000</td>\n",
       "    </tr>\n",
       "    <tr>\n",
       "      <th>9</th>\n",
       "      <td>Bình Thuận</td>\n",
       "      <td>Gia Dụng</td>\n",
       "      <td>2015</td>\n",
       "      <td>Shopee</td>\n",
       "      <td>163</td>\n",
       "      <td>779181000</td>\n",
       "    </tr>\n",
       "  </tbody>\n",
       "</table>\n",
       "</div>"
      ],
      "text/plain": [
       "  tinh_thanhpho loai_san_pham   nam   kenh_mua_ban   id  so_tien_thanh_toan\n",
       "0    Bình Thuận      Gia Dụng  2014           Khac  173           894908000\n",
       "1    Bình Thuận      Gia Dụng  2014         Lazada  154           773402000\n",
       "2    Bình Thuận      Gia Dụng  2014        Offline  155           807544000\n",
       "3    Bình Thuận      Gia Dụng  2014         Shopee  145           684225000\n",
       "4    Bình Thuận      Gia Dụng  2014  Thegioididong  129           719993000\n",
       "5    Bình Thuận      Gia Dụng  2014           Tiki  127           649426000\n",
       "6    Bình Thuận      Gia Dụng  2015           Khac  137           679688000\n",
       "7    Bình Thuận      Gia Dụng  2015         Lazada  155           770802000\n",
       "8    Bình Thuận      Gia Dụng  2015        Offline  149           722875000\n",
       "9    Bình Thuận      Gia Dụng  2015         Shopee  163           779181000"
      ]
     },
     "execution_count": 6,
     "metadata": {},
     "output_type": "execute_result"
    }
   ],
   "source": [
    "df2=df.groupby([\"tinh_thanhpho\",\"loai_san_pham\",\"nam\",\"kenh_mua_ban\"]).agg({'id':'count','so_tien_thanh_toan':'sum'}).reset_index()\n",
    "df2.head(10)"
   ]
  },
  {
   "cell_type": "code",
   "execution_count": 7,
   "id": "33924f97",
   "metadata": {},
   "outputs": [
    {
     "data": {
      "text/html": [
       "<div>\n",
       "<style scoped>\n",
       "    .dataframe tbody tr th:only-of-type {\n",
       "        vertical-align: middle;\n",
       "    }\n",
       "\n",
       "    .dataframe tbody tr th {\n",
       "        vertical-align: top;\n",
       "    }\n",
       "\n",
       "    .dataframe thead th {\n",
       "        text-align: right;\n",
       "    }\n",
       "</style>\n",
       "<table border=\"1\" class=\"dataframe\">\n",
       "  <thead>\n",
       "    <tr style=\"text-align: right;\">\n",
       "      <th></th>\n",
       "      <th>tinh_thanhpho</th>\n",
       "      <th>loai_san_pham</th>\n",
       "      <th>thoi_gian</th>\n",
       "      <th>kenh_mua_ban</th>\n",
       "      <th>id</th>\n",
       "      <th>so_tien_thanh_toan</th>\n",
       "      <th>trung_binh</th>\n",
       "    </tr>\n",
       "  </thead>\n",
       "  <tbody>\n",
       "    <tr>\n",
       "      <th>0</th>\n",
       "      <td>Bình Thuận</td>\n",
       "      <td>Gia Dụng</td>\n",
       "      <td>01/01/2015</td>\n",
       "      <td>Khac</td>\n",
       "      <td>1</td>\n",
       "      <td>4261000</td>\n",
       "      <td>4261000.0</td>\n",
       "    </tr>\n",
       "    <tr>\n",
       "      <th>1</th>\n",
       "      <td>Bình Thuận</td>\n",
       "      <td>Gia Dụng</td>\n",
       "      <td>01/01/2015</td>\n",
       "      <td>Lazada</td>\n",
       "      <td>2</td>\n",
       "      <td>5442000</td>\n",
       "      <td>2721000.0</td>\n",
       "    </tr>\n",
       "    <tr>\n",
       "      <th>2</th>\n",
       "      <td>Bình Thuận</td>\n",
       "      <td>Gia Dụng</td>\n",
       "      <td>01/01/2015</td>\n",
       "      <td>Offline</td>\n",
       "      <td>1</td>\n",
       "      <td>3153000</td>\n",
       "      <td>3153000.0</td>\n",
       "    </tr>\n",
       "    <tr>\n",
       "      <th>3</th>\n",
       "      <td>Bình Thuận</td>\n",
       "      <td>Gia Dụng</td>\n",
       "      <td>01/01/2015</td>\n",
       "      <td>Shopee</td>\n",
       "      <td>1</td>\n",
       "      <td>1476000</td>\n",
       "      <td>1476000.0</td>\n",
       "    </tr>\n",
       "    <tr>\n",
       "      <th>4</th>\n",
       "      <td>Bình Thuận</td>\n",
       "      <td>Gia Dụng</td>\n",
       "      <td>01/01/2015</td>\n",
       "      <td>Thegioididong</td>\n",
       "      <td>1</td>\n",
       "      <td>6985000</td>\n",
       "      <td>6985000.0</td>\n",
       "    </tr>\n",
       "    <tr>\n",
       "      <th>5</th>\n",
       "      <td>Bình Thuận</td>\n",
       "      <td>Gia Dụng</td>\n",
       "      <td>01/01/2016</td>\n",
       "      <td>Khac</td>\n",
       "      <td>1</td>\n",
       "      <td>7976000</td>\n",
       "      <td>7976000.0</td>\n",
       "    </tr>\n",
       "    <tr>\n",
       "      <th>6</th>\n",
       "      <td>Bình Thuận</td>\n",
       "      <td>Gia Dụng</td>\n",
       "      <td>01/01/2016</td>\n",
       "      <td>Offline</td>\n",
       "      <td>1</td>\n",
       "      <td>5467000</td>\n",
       "      <td>5467000.0</td>\n",
       "    </tr>\n",
       "    <tr>\n",
       "      <th>7</th>\n",
       "      <td>Bình Thuận</td>\n",
       "      <td>Gia Dụng</td>\n",
       "      <td>01/01/2016</td>\n",
       "      <td>Thegioididong</td>\n",
       "      <td>1</td>\n",
       "      <td>7936000</td>\n",
       "      <td>7936000.0</td>\n",
       "    </tr>\n",
       "    <tr>\n",
       "      <th>8</th>\n",
       "      <td>Bình Thuận</td>\n",
       "      <td>Gia Dụng</td>\n",
       "      <td>01/01/2017</td>\n",
       "      <td>Offline</td>\n",
       "      <td>1</td>\n",
       "      <td>665000</td>\n",
       "      <td>665000.0</td>\n",
       "    </tr>\n",
       "    <tr>\n",
       "      <th>9</th>\n",
       "      <td>Bình Thuận</td>\n",
       "      <td>Gia Dụng</td>\n",
       "      <td>01/01/2017</td>\n",
       "      <td>Thegioididong</td>\n",
       "      <td>1</td>\n",
       "      <td>3829000</td>\n",
       "      <td>3829000.0</td>\n",
       "    </tr>\n",
       "  </tbody>\n",
       "</table>\n",
       "</div>"
      ],
      "text/plain": [
       "  tinh_thanhpho loai_san_pham   thoi_gian   kenh_mua_ban  id  \\\n",
       "0    Bình Thuận      Gia Dụng  01/01/2015           Khac   1   \n",
       "1    Bình Thuận      Gia Dụng  01/01/2015         Lazada   2   \n",
       "2    Bình Thuận      Gia Dụng  01/01/2015        Offline   1   \n",
       "3    Bình Thuận      Gia Dụng  01/01/2015         Shopee   1   \n",
       "4    Bình Thuận      Gia Dụng  01/01/2015  Thegioididong   1   \n",
       "5    Bình Thuận      Gia Dụng  01/01/2016           Khac   1   \n",
       "6    Bình Thuận      Gia Dụng  01/01/2016        Offline   1   \n",
       "7    Bình Thuận      Gia Dụng  01/01/2016  Thegioididong   1   \n",
       "8    Bình Thuận      Gia Dụng  01/01/2017        Offline   1   \n",
       "9    Bình Thuận      Gia Dụng  01/01/2017  Thegioididong   1   \n",
       "\n",
       "   so_tien_thanh_toan  trung_binh  \n",
       "0             4261000   4261000.0  \n",
       "1             5442000   2721000.0  \n",
       "2             3153000   3153000.0  \n",
       "3             1476000   1476000.0  \n",
       "4             6985000   6985000.0  \n",
       "5             7976000   7976000.0  \n",
       "6             5467000   5467000.0  \n",
       "7             7936000   7936000.0  \n",
       "8              665000    665000.0  \n",
       "9             3829000   3829000.0  "
      ]
     },
     "execution_count": 7,
     "metadata": {},
     "output_type": "execute_result"
    }
   ],
   "source": [
    "df1['trung_binh']=df1['so_tien_thanh_toan']/df1['id']\n",
    "df1.head(10)"
   ]
  },
  {
   "cell_type": "code",
   "execution_count": 8,
   "id": "3ecc9efb",
   "metadata": {},
   "outputs": [
    {
     "data": {
      "text/html": [
       "<div>\n",
       "<style scoped>\n",
       "    .dataframe tbody tr th:only-of-type {\n",
       "        vertical-align: middle;\n",
       "    }\n",
       "\n",
       "    .dataframe tbody tr th {\n",
       "        vertical-align: top;\n",
       "    }\n",
       "\n",
       "    .dataframe thead th {\n",
       "        text-align: right;\n",
       "    }\n",
       "</style>\n",
       "<table border=\"1\" class=\"dataframe\">\n",
       "  <thead>\n",
       "    <tr style=\"text-align: right;\">\n",
       "      <th></th>\n",
       "      <th>tinh_thanhpho</th>\n",
       "      <th>loai_san_pham</th>\n",
       "      <th>nam</th>\n",
       "      <th>kenh_mua_ban</th>\n",
       "      <th>id</th>\n",
       "      <th>so_tien_thanh_toan</th>\n",
       "      <th>trung_binh</th>\n",
       "    </tr>\n",
       "  </thead>\n",
       "  <tbody>\n",
       "    <tr>\n",
       "      <th>0</th>\n",
       "      <td>Bình Thuận</td>\n",
       "      <td>Gia Dụng</td>\n",
       "      <td>2014</td>\n",
       "      <td>Khac</td>\n",
       "      <td>173</td>\n",
       "      <td>894908000</td>\n",
       "      <td>5.172879e+06</td>\n",
       "    </tr>\n",
       "    <tr>\n",
       "      <th>1</th>\n",
       "      <td>Bình Thuận</td>\n",
       "      <td>Gia Dụng</td>\n",
       "      <td>2014</td>\n",
       "      <td>Lazada</td>\n",
       "      <td>154</td>\n",
       "      <td>773402000</td>\n",
       "      <td>5.022091e+06</td>\n",
       "    </tr>\n",
       "    <tr>\n",
       "      <th>2</th>\n",
       "      <td>Bình Thuận</td>\n",
       "      <td>Gia Dụng</td>\n",
       "      <td>2014</td>\n",
       "      <td>Offline</td>\n",
       "      <td>155</td>\n",
       "      <td>807544000</td>\n",
       "      <td>5.209961e+06</td>\n",
       "    </tr>\n",
       "    <tr>\n",
       "      <th>3</th>\n",
       "      <td>Bình Thuận</td>\n",
       "      <td>Gia Dụng</td>\n",
       "      <td>2014</td>\n",
       "      <td>Shopee</td>\n",
       "      <td>145</td>\n",
       "      <td>684225000</td>\n",
       "      <td>4.718793e+06</td>\n",
       "    </tr>\n",
       "    <tr>\n",
       "      <th>4</th>\n",
       "      <td>Bình Thuận</td>\n",
       "      <td>Gia Dụng</td>\n",
       "      <td>2014</td>\n",
       "      <td>Thegioididong</td>\n",
       "      <td>129</td>\n",
       "      <td>719993000</td>\n",
       "      <td>5.581341e+06</td>\n",
       "    </tr>\n",
       "    <tr>\n",
       "      <th>5</th>\n",
       "      <td>Bình Thuận</td>\n",
       "      <td>Gia Dụng</td>\n",
       "      <td>2014</td>\n",
       "      <td>Tiki</td>\n",
       "      <td>127</td>\n",
       "      <td>649426000</td>\n",
       "      <td>5.113591e+06</td>\n",
       "    </tr>\n",
       "    <tr>\n",
       "      <th>6</th>\n",
       "      <td>Bình Thuận</td>\n",
       "      <td>Gia Dụng</td>\n",
       "      <td>2015</td>\n",
       "      <td>Khac</td>\n",
       "      <td>137</td>\n",
       "      <td>679688000</td>\n",
       "      <td>4.961226e+06</td>\n",
       "    </tr>\n",
       "    <tr>\n",
       "      <th>7</th>\n",
       "      <td>Bình Thuận</td>\n",
       "      <td>Gia Dụng</td>\n",
       "      <td>2015</td>\n",
       "      <td>Lazada</td>\n",
       "      <td>155</td>\n",
       "      <td>770802000</td>\n",
       "      <td>4.972916e+06</td>\n",
       "    </tr>\n",
       "    <tr>\n",
       "      <th>8</th>\n",
       "      <td>Bình Thuận</td>\n",
       "      <td>Gia Dụng</td>\n",
       "      <td>2015</td>\n",
       "      <td>Offline</td>\n",
       "      <td>149</td>\n",
       "      <td>722875000</td>\n",
       "      <td>4.851510e+06</td>\n",
       "    </tr>\n",
       "    <tr>\n",
       "      <th>9</th>\n",
       "      <td>Bình Thuận</td>\n",
       "      <td>Gia Dụng</td>\n",
       "      <td>2015</td>\n",
       "      <td>Shopee</td>\n",
       "      <td>163</td>\n",
       "      <td>779181000</td>\n",
       "      <td>4.780252e+06</td>\n",
       "    </tr>\n",
       "  </tbody>\n",
       "</table>\n",
       "</div>"
      ],
      "text/plain": [
       "  tinh_thanhpho loai_san_pham   nam   kenh_mua_ban   id  so_tien_thanh_toan  \\\n",
       "0    Bình Thuận      Gia Dụng  2014           Khac  173           894908000   \n",
       "1    Bình Thuận      Gia Dụng  2014         Lazada  154           773402000   \n",
       "2    Bình Thuận      Gia Dụng  2014        Offline  155           807544000   \n",
       "3    Bình Thuận      Gia Dụng  2014         Shopee  145           684225000   \n",
       "4    Bình Thuận      Gia Dụng  2014  Thegioididong  129           719993000   \n",
       "5    Bình Thuận      Gia Dụng  2014           Tiki  127           649426000   \n",
       "6    Bình Thuận      Gia Dụng  2015           Khac  137           679688000   \n",
       "7    Bình Thuận      Gia Dụng  2015         Lazada  155           770802000   \n",
       "8    Bình Thuận      Gia Dụng  2015        Offline  149           722875000   \n",
       "9    Bình Thuận      Gia Dụng  2015         Shopee  163           779181000   \n",
       "\n",
       "     trung_binh  \n",
       "0  5.172879e+06  \n",
       "1  5.022091e+06  \n",
       "2  5.209961e+06  \n",
       "3  4.718793e+06  \n",
       "4  5.581341e+06  \n",
       "5  5.113591e+06  \n",
       "6  4.961226e+06  \n",
       "7  4.972916e+06  \n",
       "8  4.851510e+06  \n",
       "9  4.780252e+06  "
      ]
     },
     "execution_count": 8,
     "metadata": {},
     "output_type": "execute_result"
    }
   ],
   "source": [
    "df2['trung_binh']=df2['so_tien_thanh_toan']/df2['id']\n",
    "df2.head(10)"
   ]
  },
  {
   "cell_type": "code",
   "execution_count": 10,
   "id": "397f89ae",
   "metadata": {},
   "outputs": [
    {
     "data": {
      "text/plain": [
       "<Figure size 864x360 with 0 Axes>"
      ]
     },
     "execution_count": 10,
     "metadata": {},
     "output_type": "execute_result"
    },
    {
     "data": {
      "text/plain": [
       "<AxesSubplot:xlabel='loai_san_pham', ylabel='so_tien_thanh_toan'>"
      ]
     },
     "execution_count": 10,
     "metadata": {},
     "output_type": "execute_result"
    },
    {
     "data": {
      "text/plain": [
       "Text(0.5, 1.0, 'Loại sản phẩm cho từng kênh mua bán')"
      ]
     },
     "execution_count": 10,
     "metadata": {},
     "output_type": "execute_result"
    },
    {
     "data": {
      "text/plain": [
       "(array([ 0,  1,  2,  3,  4,  5,  6,  7,  8,  9, 10, 11]),\n",
       " [Text(0, 0, 'Điện Thoại'),\n",
       "  Text(1, 0, 'Thời trang nữ'),\n",
       "  Text(2, 0, 'Gia Dụng'),\n",
       "  Text(3, 0, 'Máy Ảnh'),\n",
       "  Text(4, 0, 'Thiết Bị Số'),\n",
       "  Text(5, 0, 'Đồng hồ'),\n",
       "  Text(6, 0, 'Nhà Cửa'),\n",
       "  Text(7, 0, 'Laptop'),\n",
       "  Text(8, 0, 'Điện Tử'),\n",
       "  Text(9, 0, 'Thể Thao'),\n",
       "  Text(10, 0, 'Thịt, rau củ'),\n",
       "  Text(11, 0, 'Phụ kiện')])"
      ]
     },
     "execution_count": 10,
     "metadata": {},
     "output_type": "execute_result"
    },
    {
     "data": {
      "image/png": "[encoded data removed]",
      "text/plain": [
       "<Figure size 864x360 with 1 Axes>"
      ]
     },
     "metadata": {
      "needs_background": "light"
     },
     "output_type": "display_data"
    }
   ],
   "source": [
    "plt.figure(figsize=(12, 5))\n",
    "\n",
    "sns.barplot(x='loai_san_pham',y='so_tien_thanh_toan', data=df, hue='kenh_mua_ban')\n",
    "plt.title(\"Loại sản phẩm cho từng kênh mua bán\", fontsize=15)\n",
    "plt.xticks(rotation=90)"
   ]
  },
  {
   "cell_type": "code",
   "execution_count": 11,
   "id": "2b2e7f33",
   "metadata": {},
   "outputs": [
    {
     "data": {
      "text/plain": [
       "<Figure size 864x360 with 0 Axes>"
      ]
     },
     "execution_count": 11,
     "metadata": {},
     "output_type": "execute_result"
    },
    {
     "data": {
      "text/plain": [
       "<BarContainer object of 8660 artists>"
      ]
     },
     "execution_count": 11,
     "metadata": {},
     "output_type": "execute_result"
    },
    {
     "data": {
      "image/png": "[encoded data removed]",
      "text/plain": [
       "<Figure size 864x360 with 1 Axes>"
      ]
     },
     "metadata": {
      "needs_background": "light"
     },
     "output_type": "display_data"
    }
   ],
   "source": [
    "plt.figure(figsize=(12, 5))\n",
    "plt.barh(df2['loai_san_pham'],df2['trung_binh'])\n",
    "plt.show()"
   ]
  },
  {
   "cell_type": "code",
   "execution_count": 12,
   "id": "ebe97d02",
   "metadata": {},
   "outputs": [
    {
     "data": {
      "text/plain": [
       "<Figure size 720x360 with 0 Axes>"
      ]
     },
     "execution_count": 12,
     "metadata": {},
     "output_type": "execute_result"
    },
    {
     "data": {
      "text/plain": [
       "<BarContainer object of 8660 artists>"
      ]
     },
     "execution_count": 12,
     "metadata": {},
     "output_type": "execute_result"
    },
    {
     "data": {
      "image/png": "[encoded data removed]",
      "text/plain": [
       "<Figure size 720x360 with 1 Axes>"
      ]
     },
     "metadata": {
      "needs_background": "light"
     },
     "output_type": "display_data"
    }
   ],
   "source": [
    "plt.figure(figsize=(10, 5))\n",
    "plt.barh(df2['kenh_mua_ban'],df2['trung_binh'])\n",
    "plt.show()"
   ]
  },
  {
   "cell_type": "code",
   "execution_count": 13,
   "id": "6f28d335",
   "metadata": {},
   "outputs": [
    {
     "data": {
      "text/plain": [
       "<Figure size 1080x360 with 0 Axes>"
      ]
     },
     "execution_count": 13,
     "metadata": {},
     "output_type": "execute_result"
    },
    {
     "data": {
      "text/plain": [
       "<BarContainer object of 8660 artists>"
      ]
     },
     "execution_count": 13,
     "metadata": {},
     "output_type": "execute_result"
    },
    {
     "data": {
      "image/png": "[encoded data removed]",
      "text/plain": [
       "<Figure size 1080x360 with 1 Axes>"
      ]
     },
     "metadata": {
      "needs_background": "light"
     },
     "output_type": "display_data"
    }
   ],
   "source": [
    "plt.figure(figsize=(15, 5))\n",
    "plt.barh(df2['tinh_thanhpho'],df2['trung_binh'])\n",
    "plt.show()"
   ]
  },
  {
   "cell_type": "code",
   "execution_count": 14,
   "id": "c126aaff",
   "metadata": {},
   "outputs": [
    {
     "data": {
      "text/html": [
       "<div>\n",
       "<style scoped>\n",
       "    .dataframe tbody tr th:only-of-type {\n",
       "        vertical-align: middle;\n",
       "    }\n",
       "\n",
       "    .dataframe tbody tr th {\n",
       "        vertical-align: top;\n",
       "    }\n",
       "\n",
       "    .dataframe thead th {\n",
       "        text-align: right;\n",
       "    }\n",
       "</style>\n",
       "<table border=\"1\" class=\"dataframe\">\n",
       "  <thead>\n",
       "    <tr style=\"text-align: right;\">\n",
       "      <th></th>\n",
       "      <th>tinh_thanhpho</th>\n",
       "      <th>loai_san_pham</th>\n",
       "      <th>nam</th>\n",
       "      <th>kenh_mua_ban</th>\n",
       "      <th>id</th>\n",
       "      <th>so_tien_thanh_toan</th>\n",
       "      <th>trung_binh</th>\n",
       "    </tr>\n",
       "  </thead>\n",
       "  <tbody>\n",
       "    <tr>\n",
       "      <th>30</th>\n",
       "      <td>Bình Thuận</td>\n",
       "      <td>Gia Dụng</td>\n",
       "      <td>2019</td>\n",
       "      <td>Khac</td>\n",
       "      <td>140</td>\n",
       "      <td>748723000</td>\n",
       "      <td>5.348021e+06</td>\n",
       "    </tr>\n",
       "    <tr>\n",
       "      <th>31</th>\n",
       "      <td>Bình Thuận</td>\n",
       "      <td>Gia Dụng</td>\n",
       "      <td>2019</td>\n",
       "      <td>Lazada</td>\n",
       "      <td>166</td>\n",
       "      <td>787341000</td>\n",
       "      <td>4.743018e+06</td>\n",
       "    </tr>\n",
       "    <tr>\n",
       "      <th>32</th>\n",
       "      <td>Bình Thuận</td>\n",
       "      <td>Gia Dụng</td>\n",
       "      <td>2019</td>\n",
       "      <td>Offline</td>\n",
       "      <td>140</td>\n",
       "      <td>781113000</td>\n",
       "      <td>5.579379e+06</td>\n",
       "    </tr>\n",
       "  </tbody>\n",
       "</table>\n",
       "</div>"
      ],
      "text/plain": [
       "   tinh_thanhpho loai_san_pham   nam kenh_mua_ban   id  so_tien_thanh_toan  \\\n",
       "30    Bình Thuận      Gia Dụng  2019         Khac  140           748723000   \n",
       "31    Bình Thuận      Gia Dụng  2019       Lazada  166           787341000   \n",
       "32    Bình Thuận      Gia Dụng  2019      Offline  140           781113000   \n",
       "\n",
       "      trung_binh  \n",
       "30  5.348021e+06  \n",
       "31  4.743018e+06  \n",
       "32  5.579379e+06  "
      ]
     },
     "execution_count": 14,
     "metadata": {},
     "output_type": "execute_result"
    },
    {
     "data": {
      "text/plain": [
       "<Figure size 864x360 with 0 Axes>"
      ]
     },
     "execution_count": 14,
     "metadata": {},
     "output_type": "execute_result"
    },
    {
     "data": {
      "text/plain": [
       "<BarContainer object of 1224 artists>"
      ]
     },
     "execution_count": 14,
     "metadata": {},
     "output_type": "execute_result"
    },
    {
     "data": {
      "image/png": "[encoded data removed]",
      "text/plain": [
       "<Figure size 864x360 with 1 Axes>"
      ]
     },
     "metadata": {
      "needs_background": "light"
     },
     "output_type": "display_data"
    },
    {
     "data": {
      "text/plain": [
       "<Figure size 864x360 with 0 Axes>"
      ]
     },
     "execution_count": 14,
     "metadata": {},
     "output_type": "execute_result"
    },
    {
     "data": {
      "text/plain": [
       "<BarContainer object of 1224 artists>"
      ]
     },
     "execution_count": 14,
     "metadata": {},
     "output_type": "execute_result"
    },
    {
     "data": {
      "image/png": "[encoded data removed]",
      "text/plain": [
       "<Figure size 864x360 with 1 Axes>"
      ]
     },
     "metadata": {
      "needs_background": "light"
     },
     "output_type": "display_data"
    },
    {
     "data": {
      "text/plain": [
       "<Figure size 864x360 with 0 Axes>"
      ]
     },
     "execution_count": 14,
     "metadata": {},
     "output_type": "execute_result"
    },
    {
     "data": {
      "text/plain": [
       "<AxesSubplot:xlabel='loai_san_pham', ylabel='trung_binh'>"
      ]
     },
     "execution_count": 14,
     "metadata": {},
     "output_type": "execute_result"
    },
    {
     "data": {
      "text/plain": [
       "Text(0.5, 1.0, 'Loại sản phẩm cho từng kênh mua bán')"
      ]
     },
     "execution_count": 14,
     "metadata": {},
     "output_type": "execute_result"
    },
    {
     "data": {
      "text/plain": [
       "(array([ 0,  1,  2,  3,  4,  5,  6,  7,  8,  9, 10, 11]),\n",
       " [Text(0, 0, 'Gia Dụng'),\n",
       "  Text(1, 0, 'Laptop'),\n",
       "  Text(2, 0, 'Máy Ảnh'),\n",
       "  Text(3, 0, 'Nhà Cửa'),\n",
       "  Text(4, 0, 'Phụ kiện'),\n",
       "  Text(5, 0, 'Thiết Bị Số'),\n",
       "  Text(6, 0, 'Thể Thao'),\n",
       "  Text(7, 0, 'Thịt, rau củ'),\n",
       "  Text(8, 0, 'Thời trang nữ'),\n",
       "  Text(9, 0, 'Điện Thoại'),\n",
       "  Text(10, 0, 'Điện Tử'),\n",
       "  Text(11, 0, 'Đồng hồ')])"
      ]
     },
     "execution_count": 14,
     "metadata": {},
     "output_type": "execute_result"
    },
    {
     "data": {
      "image/png": "[encoded data removed]",
      "text/plain": [
       "<Figure size 864x360 with 1 Axes>"
      ]
     },
     "metadata": {
      "needs_background": "light"
     },
     "output_type": "display_data"
    }
   ],
   "source": [
    "df3=df2[df2['nam']=='2019']\n",
    "df3.head(3)\n",
    "plt.figure(figsize=(12, 5))\n",
    "plt.barh(df3['loai_san_pham'],df3['trung_binh'])\n",
    "plt.show()\n",
    "\n",
    "\n",
    "plt.figure(figsize=(12, 5))\n",
    "plt.barh(df3['kenh_mua_ban'],df3['trung_binh'])\n",
    "plt.show()\n",
    "plt.figure(figsize=(12, 5))\n",
    "\n",
    "sns.barplot(x='loai_san_pham',y='trung_binh', data=df3, hue='kenh_mua_ban')\n",
    "plt.title(\"Loại sản phẩm cho từng kênh mua bán\", fontsize=15)\n",
    "plt.xticks(rotation=90)"
   ]
  },
  {
   "cell_type": "code",
   "execution_count": 15,
   "id": "0023440e",
   "metadata": {},
   "outputs": [
    {
     "data": {
      "text/html": [
       "<div>\n",
       "<style scoped>\n",
       "    .dataframe tbody tr th:only-of-type {\n",
       "        vertical-align: middle;\n",
       "    }\n",
       "\n",
       "    .dataframe tbody tr th {\n",
       "        vertical-align: top;\n",
       "    }\n",
       "\n",
       "    .dataframe thead th {\n",
       "        text-align: right;\n",
       "    }\n",
       "</style>\n",
       "<table border=\"1\" class=\"dataframe\">\n",
       "  <thead>\n",
       "    <tr style=\"text-align: right;\">\n",
       "      <th></th>\n",
       "      <th>tinh_thanhpho</th>\n",
       "      <th>loai_san_pham</th>\n",
       "      <th>nam</th>\n",
       "      <th>kenh_mua_ban</th>\n",
       "      <th>id</th>\n",
       "      <th>so_tien_thanh_toan</th>\n",
       "      <th>trung_binh</th>\n",
       "    </tr>\n",
       "  </thead>\n",
       "  <tbody>\n",
       "    <tr>\n",
       "      <th>36</th>\n",
       "      <td>Bình Thuận</td>\n",
       "      <td>Gia Dụng</td>\n",
       "      <td>2020</td>\n",
       "      <td>Khac</td>\n",
       "      <td>147</td>\n",
       "      <td>754108000</td>\n",
       "      <td>5.129986e+06</td>\n",
       "    </tr>\n",
       "    <tr>\n",
       "      <th>37</th>\n",
       "      <td>Bình Thuận</td>\n",
       "      <td>Gia Dụng</td>\n",
       "      <td>2020</td>\n",
       "      <td>Lazada</td>\n",
       "      <td>140</td>\n",
       "      <td>707663000</td>\n",
       "      <td>5.054736e+06</td>\n",
       "    </tr>\n",
       "    <tr>\n",
       "      <th>38</th>\n",
       "      <td>Bình Thuận</td>\n",
       "      <td>Gia Dụng</td>\n",
       "      <td>2020</td>\n",
       "      <td>Offline</td>\n",
       "      <td>151</td>\n",
       "      <td>765521000</td>\n",
       "      <td>5.069675e+06</td>\n",
       "    </tr>\n",
       "  </tbody>\n",
       "</table>\n",
       "</div>"
      ],
      "text/plain": [
       "   tinh_thanhpho loai_san_pham   nam kenh_mua_ban   id  so_tien_thanh_toan  \\\n",
       "36    Bình Thuận      Gia Dụng  2020         Khac  147           754108000   \n",
       "37    Bình Thuận      Gia Dụng  2020       Lazada  140           707663000   \n",
       "38    Bình Thuận      Gia Dụng  2020      Offline  151           765521000   \n",
       "\n",
       "      trung_binh  \n",
       "36  5.129986e+06  \n",
       "37  5.054736e+06  \n",
       "38  5.069675e+06  "
      ]
     },
     "execution_count": 15,
     "metadata": {},
     "output_type": "execute_result"
    },
    {
     "data": {
      "text/plain": [
       "<Figure size 864x360 with 0 Axes>"
      ]
     },
     "execution_count": 15,
     "metadata": {},
     "output_type": "execute_result"
    },
    {
     "data": {
      "text/plain": [
       "<BarContainer object of 1224 artists>"
      ]
     },
     "execution_count": 15,
     "metadata": {},
     "output_type": "execute_result"
    },
    {
     "data": {
      "image/png": "[encoded data removed]",
      "text/plain": [
       "<Figure size 864x360 with 1 Axes>"
      ]
     },
     "metadata": {
      "needs_background": "light"
     },
     "output_type": "display_data"
    },
    {
     "data": {
      "text/plain": [
       "<Figure size 864x360 with 0 Axes>"
      ]
     },
     "execution_count": 15,
     "metadata": {},
     "output_type": "execute_result"
    },
    {
     "data": {
      "text/plain": [
       "<BarContainer object of 1224 artists>"
      ]
     },
     "execution_count": 15,
     "metadata": {},
     "output_type": "execute_result"
    },
    {
     "data": {
      "image/png": "[encoded data removed]",
      "text/plain": [
       "<Figure size 864x360 with 1 Axes>"
      ]
     },
     "metadata": {
      "needs_background": "light"
     },
     "output_type": "display_data"
    },
    {
     "data": {
      "text/plain": [
       "<Figure size 864x360 with 0 Axes>"
      ]
     },
     "execution_count": 15,
     "metadata": {},
     "output_type": "execute_result"
    },
    {
     "data": {
      "text/plain": [
       "<AxesSubplot:xlabel='loai_san_pham', ylabel='trung_binh'>"
      ]
     },
     "execution_count": 15,
     "metadata": {},
     "output_type": "execute_result"
    },
    {
     "data": {
      "text/plain": [
       "Text(0.5, 1.0, 'Loại sản phẩm cho từng kênh mua bán')"
      ]
     },
     "execution_count": 15,
     "metadata": {},
     "output_type": "execute_result"
    },
    {
     "data": {
      "text/plain": [
       "(array([ 0,  1,  2,  3,  4,  5,  6,  7,  8,  9, 10, 11]),\n",
       " [Text(0, 0, 'Gia Dụng'),\n",
       "  Text(1, 0, 'Laptop'),\n",
       "  Text(2, 0, 'Máy Ảnh'),\n",
       "  Text(3, 0, 'Nhà Cửa'),\n",
       "  Text(4, 0, 'Phụ kiện'),\n",
       "  Text(5, 0, 'Thiết Bị Số'),\n",
       "  Text(6, 0, 'Thể Thao'),\n",
       "  Text(7, 0, 'Thịt, rau củ'),\n",
       "  Text(8, 0, 'Thời trang nữ'),\n",
       "  Text(9, 0, 'Điện Thoại'),\n",
       "  Text(10, 0, 'Điện Tử'),\n",
       "  Text(11, 0, 'Đồng hồ')])"
      ]
     },
     "execution_count": 15,
     "metadata": {},
     "output_type": "execute_result"
    },
    {
     "data": {
      "image/png": "[encoded data removed]",
      "text/plain": [
       "<Figure size 864x360 with 1 Axes>"
      ]
     },
     "metadata": {
      "needs_background": "light"
     },
     "output_type": "display_data"
    }
   ],
   "source": [
    "df3=df2[df2['nam']=='2020']\n",
    "df3.head(3)\n",
    "plt.figure(figsize=(12, 5))\n",
    "plt.barh(df3['loai_san_pham'],df3['trung_binh'])\n",
    "plt.show()\n",
    "\n",
    "plt.figure(figsize=(12, 5))\n",
    "plt.barh(df3['kenh_mua_ban'],df3['trung_binh'])\n",
    "plt.show()\n",
    "\n",
    "plt.figure(figsize=(12, 5))\n",
    "sns.barplot(x='loai_san_pham',y='trung_binh', data=df3, hue='kenh_mua_ban')\n",
    "plt.title(\"Loại sản phẩm cho từng kênh mua bán\", fontsize=15)\n",
    "plt.xticks(rotation=90)"
   ]
  },
  {
   "cell_type": "code",
   "execution_count": 16,
   "id": "58ad5fa4",
   "metadata": {},
   "outputs": [
    {
     "data": {
      "text/html": [
       "<div>\n",
       "<style scoped>\n",
       "    .dataframe tbody tr th:only-of-type {\n",
       "        vertical-align: middle;\n",
       "    }\n",
       "\n",
       "    .dataframe tbody tr th {\n",
       "        vertical-align: top;\n",
       "    }\n",
       "\n",
       "    .dataframe thead th {\n",
       "        text-align: right;\n",
       "    }\n",
       "</style>\n",
       "<table border=\"1\" class=\"dataframe\">\n",
       "  <thead>\n",
       "    <tr style=\"text-align: right;\">\n",
       "      <th></th>\n",
       "      <th>tinh_thanhpho</th>\n",
       "      <th>loai_san_pham</th>\n",
       "      <th>nam</th>\n",
       "      <th>kenh_mua_ban</th>\n",
       "      <th>id</th>\n",
       "      <th>so_tien_thanh_toan</th>\n",
       "      <th>trung_binh</th>\n",
       "    </tr>\n",
       "  </thead>\n",
       "  <tbody>\n",
       "    <tr>\n",
       "      <th>42</th>\n",
       "      <td>Bình Thuận</td>\n",
       "      <td>Gia Dụng</td>\n",
       "      <td>2021</td>\n",
       "      <td>Lazada</td>\n",
       "      <td>1</td>\n",
       "      <td>3494000</td>\n",
       "      <td>3494000.0</td>\n",
       "    </tr>\n",
       "    <tr>\n",
       "      <th>43</th>\n",
       "      <td>Bình Thuận</td>\n",
       "      <td>Gia Dụng</td>\n",
       "      <td>2021</td>\n",
       "      <td>Thegioididong</td>\n",
       "      <td>1</td>\n",
       "      <td>3809000</td>\n",
       "      <td>3809000.0</td>\n",
       "    </tr>\n",
       "    <tr>\n",
       "      <th>44</th>\n",
       "      <td>Bình Thuận</td>\n",
       "      <td>Gia Dụng</td>\n",
       "      <td>2021</td>\n",
       "      <td>Tiki</td>\n",
       "      <td>1</td>\n",
       "      <td>2608000</td>\n",
       "      <td>2608000.0</td>\n",
       "    </tr>\n",
       "  </tbody>\n",
       "</table>\n",
       "</div>"
      ],
      "text/plain": [
       "   tinh_thanhpho loai_san_pham   nam   kenh_mua_ban  id  so_tien_thanh_toan  \\\n",
       "42    Bình Thuận      Gia Dụng  2021         Lazada   1             3494000   \n",
       "43    Bình Thuận      Gia Dụng  2021  Thegioididong   1             3809000   \n",
       "44    Bình Thuận      Gia Dụng  2021           Tiki   1             2608000   \n",
       "\n",
       "    trung_binh  \n",
       "42   3494000.0  \n",
       "43   3809000.0  \n",
       "44   2608000.0  "
      ]
     },
     "execution_count": 16,
     "metadata": {},
     "output_type": "execute_result"
    },
    {
     "data": {
      "text/plain": [
       "<Figure size 864x360 with 0 Axes>"
      ]
     },
     "execution_count": 16,
     "metadata": {},
     "output_type": "execute_result"
    },
    {
     "data": {
      "text/plain": [
       "<BarContainer object of 92 artists>"
      ]
     },
     "execution_count": 16,
     "metadata": {},
     "output_type": "execute_result"
    },
    {
     "data": {
      "image/png": "[encoded data removed]",
      "text/plain": [
       "<Figure size 864x360 with 1 Axes>"
      ]
     },
     "metadata": {
      "needs_background": "light"
     },
     "output_type": "display_data"
    },
    {
     "data": {
      "text/plain": [
       "<Figure size 864x360 with 0 Axes>"
      ]
     },
     "execution_count": 16,
     "metadata": {},
     "output_type": "execute_result"
    },
    {
     "data": {
      "text/plain": [
       "<BarContainer object of 92 artists>"
      ]
     },
     "execution_count": 16,
     "metadata": {},
     "output_type": "execute_result"
    },
    {
     "data": {
      "image/png": "[encoded data removed]",
      "text/plain": [
       "<Figure size 864x360 with 1 Axes>"
      ]
     },
     "metadata": {
      "needs_background": "light"
     },
     "output_type": "display_data"
    },
    {
     "data": {
      "text/plain": [
       "<Figure size 864x360 with 0 Axes>"
      ]
     },
     "execution_count": 16,
     "metadata": {},
     "output_type": "execute_result"
    },
    {
     "data": {
      "text/plain": [
       "<AxesSubplot:xlabel='loai_san_pham', ylabel='trung_binh'>"
      ]
     },
     "execution_count": 16,
     "metadata": {},
     "output_type": "execute_result"
    },
    {
     "data": {
      "text/plain": [
       "Text(0.5, 1.0, 'Loại sản phẩm cho từng kênh mua bán')"
      ]
     },
     "execution_count": 16,
     "metadata": {},
     "output_type": "execute_result"
    },
    {
     "data": {
      "text/plain": [
       "(array([ 0,  1,  2,  3,  4,  5,  6,  7,  8,  9, 10, 11]),\n",
       " [Text(0, 0, 'Gia Dụng'),\n",
       "  Text(1, 0, 'Máy Ảnh'),\n",
       "  Text(2, 0, 'Nhà Cửa'),\n",
       "  Text(3, 0, 'Thiết Bị Số'),\n",
       "  Text(4, 0, 'Thể Thao'),\n",
       "  Text(5, 0, 'Điện Thoại'),\n",
       "  Text(6, 0, 'Đồng hồ'),\n",
       "  Text(7, 0, 'Điện Tử'),\n",
       "  Text(8, 0, 'Laptop'),\n",
       "  Text(9, 0, 'Phụ kiện'),\n",
       "  Text(10, 0, 'Thịt, rau củ'),\n",
       "  Text(11, 0, 'Thời trang nữ')])"
      ]
     },
     "execution_count": 16,
     "metadata": {},
     "output_type": "execute_result"
    },
    {
     "data": {
      "image/png": "[encoded data removed]",
      "text/plain": [
       "<Figure size 864x360 with 1 Axes>"
      ]
     },
     "metadata": {
      "needs_background": "light"
     },
     "output_type": "display_data"
    }
   ],
   "source": [
    "df3=df2[df2['nam']=='2021']\n",
    "df3.head(3)\n",
    "plt.figure(figsize=(12, 5))\n",
    "plt.barh(df3['loai_san_pham'],df3['trung_binh'])\n",
    "plt.show()\n",
    "\n",
    "plt.figure(figsize=(12, 5))\n",
    "plt.barh(df3['kenh_mua_ban'],df3['trung_binh'])\n",
    "plt.show()\n",
    "\n",
    "plt.figure(figsize=(12, 5))\n",
    "sns.barplot(x='loai_san_pham',y='trung_binh', data=df3, hue='kenh_mua_ban')\n",
    "plt.title(\"Loại sản phẩm cho từng kênh mua bán\", fontsize=15)\n",
    "plt.xticks(rotation=90)"
   ]
  },
  {
   "cell_type": "code",
   "execution_count": null,
   "id": "b7d2695e",
   "metadata": {},
   "outputs": [],
   "source": []
  }
 ],
 "metadata": {
  "kernelspec": {
   "display_name": "Python 3",
   "language": "python",
   "name": "python3"
  },
  "language_info": {
   "codemirror_mode": {
    "name": "ipython",
    "version": 3
   },
   "file_extension": ".py",
   "mimetype": "text/x-python",
   "name": "python",
   "nbconvert_exporter": "python",
   "pygments_lexer": "ipython3",
   "version": "3.8.8"
  }
 },
 "nbformat": 4,
 "nbformat_minor": 5
}
